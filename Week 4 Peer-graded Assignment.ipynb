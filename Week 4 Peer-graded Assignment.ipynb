{
    "cells": [
        {
            "cell_type": "markdown",
            "metadata": {
                "collapsed": true
            },
            "source": "# The Battle of the neighbourhoods (Part 1)\n\n### Problem background and Description:\n\nLee and his family are from southern China, they plan to move to Toronto at the end of this year. Lee and his wife plan to open a Chinese restaurant in Toronto at a location where there will be customers liking Asian cuisine. He also wants to live near the restaurant so that he can go to work easily.\n\nLee has a son and a daughter, both of who need to attend high-school. So there will need to be sufficient choices for schooling in the area they move to. Lee's wife used to attend the gym regularly back in their home country, and she wants to keep this habit after they move to Toronto. Lee himself likes to read in his spare time, so it would be nice if there is a library within the neighbourhood that he can visit occasionally.\n\n### Target Audience:\n\nAmy is an immigration consultant who helps new immigrants to settle down in Toronto. She just started her own business recently to and applies the concept of data science to her business. Lee's family is her first and most important customer. Amy wants to use them as a successful case study to attract more potential clients to come to her in the future.\n\n### Criteria:\n\nThe following criteria should be taken into consideration for deciding the location of the restaurant:\n1. Which neighbourhoods have Asian restaurants being the most frequently visited place? \n2. Which of these neighbourhoods have a high school, kindergarten?\n3. Does the chosen neighbourhood has a gym and a local library? If not, are there any in the neighbourhoods nearby?\n4. What are the demographics of the chosen neighbouthoods?"
        },
        {
            "cell_type": "markdown",
            "metadata": {},
            "source": "# The Battle of the neighbourhoods (Part 2)\n\n### Data: \n\nThis project is based on the assignments from week 3. The information of the neighbourhoods in Toronto has been collected from Wikipedia and analysed. Other data, such as the venues in different neighbourhoods has been retreived using Foursquare API.\n\nFurther data that will need to be collected including:\n1. The demographics of Toronto from: https://en.wikipedia.org/wiki/Demographics_of_Toronto\n2. List of secondary schools in the Toronto district school board: https://en.wikipedia.org/wiki/List_of_secondary_schools_in_the_Toronto_District_School_Board"
        }
    ],
    "metadata": {
        "kernelspec": {
            "display_name": "Python 3.7",
            "language": "python",
            "name": "python3"
        },
        "language_info": {
            "codemirror_mode": {
                "name": "ipython",
                "version": 3
            },
            "file_extension": ".py",
            "mimetype": "text/x-python",
            "name": "python",
            "nbconvert_exporter": "python",
            "pygments_lexer": "ipython3",
            "version": "3.7.9"
        }
    },
    "nbformat": 4,
    "nbformat_minor": 1
}